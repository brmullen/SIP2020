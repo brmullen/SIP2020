{
 "cells": [
  {
   "cell_type": "code",
   "execution_count": 1,
   "metadata": {},
   "outputs": [
    {
     "name": "stdout",
     "output_type": "stream",
     "text": [
      "\n",
      "\n",
      "Error importing wholeBrainClassify.py\n",
      "\t ERROR :  cannot import name 'sortNoise'\n"
     ]
    }
   ],
   "source": [
    "import sys\n",
    "sys.path.append('../../../pywholebrain')\n",
    "import pandas as pd\n",
    "import numpy as np\n",
    "import wholeBrainClassify as wbc\n",
    "from sklearn.model_selection import train_test_split\n",
    "from sklearn.svm import SVC\n",
    "from sklearn.model_selection import StratifiedShuffleSplit\n",
    "from sklearn.naive_bayes import GaussianNB\n",
    "from sklearn.linear_model import LogisticRegression\n",
    "from sklearn.ensemble import RandomForestClassifier, VotingClassifier\n",
    "from sklearn.metrics import precision_score, recall_score"
   ]
  },
  {
   "cell_type": "code",
   "execution_count": 2,
   "metadata": {
    "scrolled": false
   },
   "outputs": [
    {
     "name": "stdout",
     "output_type": "stream",
     "text": [
      "Importing dataframe\n",
      "------------------------------------\n",
      "                 age  artifact  freq.avgsnr  freq.integrate  freq.maxsnr  \\\n",
      "exp_ic                                                                     \n",
      "170804_02-0000  21.0       1.0     0.052324        0.016939     0.041221   \n",
      "170804_02-0001  21.0       1.0     0.038568        0.005700     0.033920   \n",
      "170804_02-0002  21.0       1.0     0.025418        0.005296     0.019019   \n",
      "170804_02-0003  21.0       0.0     0.033792        0.008608     0.023504   \n",
      "170804_02-0004  21.0       0.0     0.023912        0.006612     0.018618   \n",
      "\n",
      "                freq.maxsnr.freq  freq.range.high  freq.range.low  \\\n",
      "exp_ic                                                              \n",
      "170804_02-0000          0.102564         0.499511        0.209382   \n",
      "170804_02-0001          0.102564         0.544809        0.271851   \n",
      "170804_02-0002          0.076923         0.457973        0.161212   \n",
      "170804_02-0003          0.076923         0.544809        0.352864   \n",
      "170804_02-0004          0.102564         0.544809        0.323489   \n",
      "\n",
      "                freq.rangesz    length  ...  spatial.min  spatial.n.domains  \\\n",
      "exp_ic                                  ...                                   \n",
      "170804_02-0000      0.668642  0.285714  ...     0.920028           0.054054   \n",
      "170804_02-0001      0.642591  0.238095  ...     0.971657           0.108108   \n",
      "170804_02-0002      0.674361  0.333333  ...     0.925395           0.108108   \n",
      "170804_02-0003      0.481081  0.166667  ...     0.994846           0.013514   \n",
      "170804_02-0004      0.539644  0.190476  ...     1.000000           0.013514   \n",
      "\n",
      "                spatial.std  temporal.autocorr  temporal.max  temporal.min  \\\n",
      "exp_ic                                                                       \n",
      "170804_02-0000     0.181818           0.901028      1.000000      0.804707   \n",
      "170804_02-0001     0.250000           0.943557      0.626982      0.807054   \n",
      "170804_02-0002     0.272727           0.966718      0.591737      0.861607   \n",
      "170804_02-0003     0.454545           0.809595      0.416182      0.761969   \n",
      "170804_02-0004     0.159091           0.830395      0.417483      0.801371   \n",
      "\n",
      "                temporal.n.freq  temporal.std  threshold.area  threshold.perc  \n",
      "exp_ic                                                                         \n",
      "170804_02-0000              0.6      1.000000        0.576651        0.749278  \n",
      "170804_02-0001              0.6      0.885278        0.588238        0.600221  \n",
      "170804_02-0002              0.4      0.787378        0.401705        0.924375  \n",
      "170804_02-0003              0.4      0.766569        0.918977        1.000000  \n",
      "170804_02-0004              0.4      0.748955        0.938041        1.000000  \n",
      "\n",
      "[5 rows x 38 columns]\n",
      "                 age  artifact  freq.avgsnr  freq.integrate  freq.maxsnr  \\\n",
      "exp_ic                                                                     \n",
      "170804_02-0000  21.0       1.0     0.052324        0.016939     0.041221   \n",
      "170804_02-0001  21.0       1.0     0.038568        0.005700     0.033920   \n",
      "170804_02-0002  21.0       1.0     0.025418        0.005296     0.019019   \n",
      "170804_02-0003  21.0       0.0     0.033792        0.008608     0.023504   \n",
      "170804_02-0004  21.0       0.0     0.023912        0.006612     0.018618   \n",
      "\n",
      "                freq.maxsnr.freq  freq.range.high  freq.range.low  \\\n",
      "exp_ic                                                              \n",
      "170804_02-0000          0.102564         0.499511        0.209382   \n",
      "170804_02-0001          0.102564         0.544809        0.271851   \n",
      "170804_02-0002          0.076923         0.457973        0.161212   \n",
      "170804_02-0003          0.076923         0.544809        0.352864   \n",
      "170804_02-0004          0.102564         0.544809        0.323489   \n",
      "\n",
      "                freq.rangesz    length  ...  spatial.min  spatial.n.domains  \\\n",
      "exp_ic                                  ...                                   \n",
      "170804_02-0000      0.668642  0.285714  ...     0.920028           0.054054   \n",
      "170804_02-0001      0.642591  0.238095  ...     0.971657           0.108108   \n",
      "170804_02-0002      0.674361  0.333333  ...     0.925395           0.108108   \n",
      "170804_02-0003      0.481081  0.166667  ...     0.994846           0.013514   \n",
      "170804_02-0004      0.539644  0.190476  ...     1.000000           0.013514   \n",
      "\n",
      "                spatial.std  temporal.autocorr  temporal.max  temporal.min  \\\n",
      "exp_ic                                                                       \n",
      "170804_02-0000     0.181818           0.901028      1.000000      0.804707   \n",
      "170804_02-0001     0.250000           0.943557      0.626982      0.807054   \n",
      "170804_02-0002     0.272727           0.966718      0.591737      0.861607   \n",
      "170804_02-0003     0.454545           0.809595      0.416182      0.761969   \n",
      "170804_02-0004     0.159091           0.830395      0.417483      0.801371   \n",
      "\n",
      "                temporal.n.freq  temporal.std  threshold.area  threshold.perc  \n",
      "exp_ic                                                                         \n",
      "170804_02-0000              0.6      1.000000        0.576651        0.749278  \n",
      "170804_02-0001              0.6      0.885278        0.588238        0.600221  \n",
      "170804_02-0002              0.4      0.787378        0.401705        0.924375  \n",
      "170804_02-0003              0.4      0.766569        0.918977        1.000000  \n",
      "170804_02-0004              0.4      0.748955        0.938041        1.000000  \n",
      "\n",
      "[5 rows x 38 columns]\n"
     ]
    },
    {
     "name": "stderr",
     "output_type": "stream",
     "text": [
      "/usr/local/lib/python3.5/dist-packages/ipykernel_launcher.py:41: FutureWarning: from_csv is deprecated. Please use read_csv(...) instead. Note that some of the default arguments are different, so please refer to the documentation for from_csv when changing your function calls\n"
     ]
    }
   ],
   "source": [
    "classMetricsPath = '/home/ackmanadmin/Documents/classifier/p21_classifier_metrics.tsv'\n",
    "\n",
    "domain_vars = [\n",
    "             #spatial metrics\n",
    "             'spatial.min', 'spatial.max', \n",
    "             'threshold.area', #'mass.perc','threshold.perc', 'mass.region', #choose 1 \n",
    "             #'spatial.COMdom.x', 'spatial.COMdom.y', #positional argument - do we need?\n",
    "             'region.extent', \n",
    "             'region.minaxis', 'region.majaxis',\n",
    "             'region.eccentricity', #'region.majmin.ratio',  #choose 1\n",
    "\n",
    "             #temporal metrics\n",
    "             'freq.rangesz', #'length', #choose 1\n",
    "             'temporal.max', 'temporal.std',  #'temporal.autocorr', \n",
    "             'freq.range.low', 'freq.range.high']\n",
    "\n",
    "nodomain_vars =[\n",
    "    'spatial.min',\n",
    "    'spatial.max',\n",
    "    'spatial.COMdom.x',\n",
    "    'spatial.COMdom.y',\n",
    "    'freq.maxsnr',\n",
    "    'spatial.COMall.x',\n",
    "#   'freq.avgsnr',\n",
    "    'spatial.std',\n",
    "    'temporal.max',\n",
    "    'temporal.autocorr',\n",
    "    'freq.range.low',\n",
    "    'temporal.std',\n",
    "    'temporal.min'\n",
    "#   'signal_index',\n",
    "#   'spatial.COMall.y'\n",
    "#   'freq.integrate',\n",
    "#   'freq.range.high',\n",
    "#   'freq.rangesz',\n",
    "#   'spatial.avg'\n",
    "]\n",
    "\n",
    "\n",
    "try:\n",
    "    main_data = pd.DataFrame.from_csv(classMetricsPath, sep = '\\t', index_col='exp_ic')\n",
    "    print('Importing dataframe\\n------------------------------------')\n",
    "    print(main_data.head())\n",
    "except Exception as e:\n",
    "    main_data = pd.DataFrame()\n",
    "    print('Error importing dataFrame')\n",
    "    print('\\t ERROR : ', e)\n",
    "    assert not main_data.empty, 'Check path to metrics dataframe'\n",
    "    \n",
    "# main_data -= main_data.min()\n",
    "# main_data /= main_data.max()\n",
    "# main_data.to_csv(classMetricsPath, sep = '\\t')\n",
    "\n",
    "domain = main_data.loc[main_data['threshold.area'] != 0].copy()\n",
    "nodomain = main_data.loc[main_data['threshold.area'] == 0].copy()\n",
    "print(main_data.head())"
   ]
  },
  {
   "cell_type": "code",
   "execution_count": 3,
   "metadata": {
    "collapsed": true
   },
   "outputs": [],
   "source": [
    "score = []\n",
    "precision = []\n",
    "recall = []\n",
    "signal = []\n",
    "artifact = []\n",
    "\n",
    "truep =[]\n",
    "truen =[]\n",
    "falsep = []\n",
    "falsen = []\n",
    "for i in range(1000):\n",
    "    X_train, X_test, y_train, y_test = wbc.splitData(domain.loc[:,domain_vars].copy(), domain.loc[:,'signal'].copy())\n",
    "    X2_train, X2_test, y2_train, y2_test = wbc.splitData(nodomain.loc[:,nodomain_vars].copy(), nodomain.loc[:,'signal'].copy())\n",
    "\n",
    "    Xlen = len(domain)\n",
    "    X2len = len(nodomain)\n",
    "\n",
    "    Xfraction = Xlen / (Xlen + X2len)\n",
    "    X2fraction = X2len / (Xlen + X2len) \n",
    "\n",
    "    rnd_clf = RandomForestClassifier(n_estimators = 40, max_features = 2)\n",
    "    rnd_clf.fit(X_train, y_train)\n",
    "    y_pred = rnd_clf.predict(X_test)\n",
    "    y_pred_2 = rnd_clf.predict(X_train)\n",
    "    \n",
    "    rnd_score = rnd_clf.score(X_test, y_test)\n",
    "    rnd_precision =  precision_score(y_test, y_pred)\n",
    "    rnd_recall = recall_score(y_test, y_pred)\n",
    "    rnd_signal = (np.sum(((y_pred==1) & (y_test==1))))/(np.sum((y_test==1)))\n",
    "    rnd_artifact = (np.sum(((y_pred==0) & (y_test==0))))/(np.sum(y_test==0))\n",
    "\n",
    "    rnd_clf2 = RandomForestClassifier(n_estimators = 40, max_features = 2)\n",
    "    rnd_clf2.fit(X2_train, y2_train)\n",
    "    y2_pred = rnd_clf2.predict(X2_test)\n",
    "    y2_pred_2 = rnd_clf.predict(X2_train)\n",
    "\n",
    "    truep.append(np.sum(y_pred[y_test==1]==y_test[y_test==1]) + np.sum(y2_pred[y2_test==1]==y2_test[y2_test==1])+\n",
    "                np.sum(y_pred_2[y_train==1]==y_train[y_train==1]) + np.sum(y2_pred_2[y2_train==1]==y2_train[y2_train==1]))\n",
    "    truen.append(np.sum(y_pred[y_test==0]==y_test[y_test==0]) + np.sum(y2_pred[y2_test==0]==y2_test[y2_test==0])+\n",
    "                np.sum(y_pred_2[y_train==0]==y_train[y_train==0]) + np.sum(y2_pred_2[y2_train==0]==y2_train[y2_train==0]))\n",
    "    falsep.append(np.sum(y_pred[y_test==1]!=y_test[y_test==1]) + np.sum(y2_pred[y2_test==1]!=y2_test[y2_test==1])+\n",
    "                np.sum(y_pred_2[y_train==1]!=y_train[y_train==1]) + np.sum(y2_pred_2[y2_train==1]!=y2_train[y2_train==1]))\n",
    "    falsen.append(np.sum(y_pred[y_test==0]!=y_test[y_test==0]) + np.sum(y2_pred[y2_test==0]!=y2_test[y2_test==0])+\n",
    "                np.sum(y_pred_2[y_train==0]!=y_train[y_train==0]) + np.sum(y2_pred_2[y2_train==0]!=y2_train[y2_train==0]))\n",
    "    \n",
    "    rnd_score2 = rnd_clf2.score(X2_test, y2_test)\n",
    "    rnd_precision2 =  precision_score(y2_test, y2_pred)\n",
    "    rnd_recall2 = recall_score(y2_test, y2_pred)\n",
    "    rnd_signal2 = (np.sum(((y2_pred==1) & (y2_test==1))))/(np.sum((y2_test==1)))\n",
    "    rnd_artifact2 = (np.sum(((y2_pred==0) & (y2_test==0))))/(np.sum(y2_test==0))\n",
    "\n",
    "    score.append((Xfraction * rnd_score) + (X2fraction * rnd_score2))\n",
    "    precision.append((Xfraction * rnd_precision) + (X2fraction * rnd_precision2))\n",
    "    recall.append((Xfraction * rnd_recall) + (X2fraction * rnd_recall2))\n"
   ]
  },
  {
   "cell_type": "code",
   "execution_count": 4,
   "metadata": {
    "scrolled": false
   },
   "outputs": [
    {
     "name": "stderr",
     "output_type": "stream",
     "text": [
      "/usr/local/lib/python3.5/dist-packages/matplotlib/axes/_axes.py:6521: MatplotlibDeprecationWarning: \n",
      "The 'normed' kwarg was deprecated in Matplotlib 2.1 and will be removed in 3.1. Use 'density' instead.\n",
      "  alternative=\"'density'\", removal=\"3.1\")\n"
     ]
    },
    {
     "name": "stdout",
     "output_type": "stream",
     "text": [
      "1504.135\n",
      "423.666\n",
      "78.865\n",
      "20.334\n"
     ]
    },
    {
     "data": {
      "image/png": "[encoded data removed]",
      "text/plain": [
       "<Figure size 1440x360 with 4 Axes>"
      ]
     },
     "metadata": {
      "needs_background": "light"
     },
     "output_type": "display_data"
    },
    {
     "name": "stdout",
     "output_type": "stream",
     "text": [
      "Accuracy of artifact: \n",
      "0.9542027027027027\n",
      "0.0457972972972973\n",
      "Accuracy of neural: \n",
      "0.9501800379027163\n",
      "0.049819962097283635\n"
     ]
    }
   ],
   "source": [
    "import matplotlib.pyplot as plt\n",
    "\n",
    "fig, axs = plt.subplots(1,4, figsize = (20, 5))\n",
    "\n",
    "axs[0].hist(truep, bins = 20, normed = True)\n",
    "axs[0].vlines(np.mean(truep), ymin= 0, ymax = 0.2, color='red')\n",
    "print(np.mean(truep))\n",
    "axs[1].hist(truen, bins = 20, normed = True)\n",
    "axs[1].vlines(np.mean(truen), ymin= 0, ymax = .2, color='red')\n",
    "print(np.mean(truen))\n",
    "axs[2].hist(falsep, bins = 20, normed = True)\n",
    "axs[2].vlines(np.mean(falsep), ymin= 0, ymax = .2, color='red')\n",
    "print(np.mean(falsep))\n",
    "axs[3].hist(falsen, bins = 20, normed = True)\n",
    "axs[3].vlines(np.mean(falsen), ymin= 0, ymax = .2, color='red')\n",
    "print(np.mean(falsen))\n",
    "\n",
    "plt.show()\n",
    "\n",
    "print('Accuracy of artifact: ')\n",
    "print(np.mean(truen)/(np.mean(truen)+np.mean(falsen)))\n",
    "print(np.mean(falsen)/(np.mean(truen)+np.mean(falsen)))\n",
    "\n",
    "print('Accuracy of neural: ')\n",
    "print(np.mean(truep)/(np.mean(truep)+np.mean(falsep)))\n",
    "print(np.mean(falsep)/(np.mean(truep)+np.mean(falsep)))"
   ]
  },
  {
   "cell_type": "code",
   "execution_count": 5,
   "metadata": {
    "collapsed": true
   },
   "outputs": [],
   "source": [
    "explist = ['190508_05', '190423_01', '190423_05', '190506_01', '190508_01']\n",
    "false_neg =  [0,  2,  6,  0,  2]\n",
    "false_pos =  [7,  7,  6,  2,  7]\n",
    "true_neg =   [62, 59, 70, 65, 44] \n",
    "true_pos =   [197,163,182,186,230]\n",
    "# Different Classifications: 13/266\n",
    "# Different Classifications: 9/247\n",
    "# Different Classifications: 25/274\n",
    "# Different Classifications: 6/253\n",
    "# Different Classifications: 17/283\n",
    "# Different Classifications: 27/271\n"
   ]
  },
  {
   "cell_type": "code",
   "execution_count": 6,
   "metadata": {},
   "outputs": [
    {
     "name": "stdout",
     "output_type": "stream",
     "text": [
      "190508_05  : Precision  0.9656862745098039 \tRecall  1.0 \tAccuracy  0.9736842105263158\n",
      "190423_01  : Precision  0.9588235294117647 \tRecall  0.9878787878787879 \tAccuracy  0.961038961038961\n",
      "190423_05  : Precision  0.9680851063829787 \tRecall  0.9680851063829787 \tAccuracy  0.9545454545454546\n",
      "190506_01  : Precision  0.9893617021276596 \tRecall  1.0 \tAccuracy  0.9920948616600791\n",
      "190508_01  : Precision  0.9704641350210971 \tRecall  0.9913793103448276 \tAccuracy  0.9681978798586572\n"
     ]
    }
   ],
   "source": [
    "def precisionfxn(true_pos, false_pos):\n",
    "    return true_pos / (true_pos + false_pos)\n",
    "\n",
    "def recallfxn(true_pos, false_neg):\n",
    "    return true_pos / (true_pos + false_neg)\n",
    "\n",
    "def accuracyfxn(true_pos, false_pos, true_neg, false_neg):\n",
    "    return (true_pos + true_neg) / (true_pos + true_neg + false_neg + false_pos)\n",
    "\n",
    "prec = []\n",
    "reca = []\n",
    "accu = []\n",
    "for i, exp in enumerate(explist):\n",
    "    prec.append(precisionfxn(true_pos[i], false_pos[i]))\n",
    "    reca.append(recallfxn(true_pos[i], false_neg[i]))\n",
    "    accu.append(accuracyfxn(true_pos[i], false_pos[i], true_neg[i], false_neg[i]))\n",
    "    print(exp, ' : Precision ', prec[-1], '\\tRecall ' , reca[-1], '\\tAccuracy ', accu[-1])\n",
    "\n",
    "    "
   ]
  },
  {
   "cell_type": "code",
   "execution_count": 15,
   "metadata": {},
   "outputs": [
    {
     "name": "stderr",
     "output_type": "stream",
     "text": [
      "/usr/local/lib/python3.5/dist-packages/matplotlib/axes/_axes.py:6521: MatplotlibDeprecationWarning: \n",
      "The 'normed' kwarg was deprecated in Matplotlib 2.1 and will be removed in 3.1. Use 'density' instead.\n",
      "  alternative=\"'density'\", removal=\"3.1\")\n"
     ]
    },
    {
     "data": {
      "image/png": "[encoded data removed]",
      "text/plain": [
       "<Figure size 1440x360 with 3 Axes>"
      ]
     },
     "metadata": {
      "needs_background": "light"
     },
     "output_type": "display_data"
    }
   ],
   "source": [
    "import matplotlib.pyplot as plt\n",
    "\n",
    "fig, axs = plt.subplots(1,3, figsize = (20, 5))\n",
    "\n",
    "axs[0].hist(score, bins = 20, normed = True)\n",
    "axs[0].vlines(np.mean(score), ymin= 0, ymax = 75, color='red')\n",
    "\n",
    "axs[1].hist(precision, bins = 20, normed = True)\n",
    "axs[1].vlines(np.mean(precision), ymin= 0, ymax = 75, color='red')\n",
    "\n",
    "axs[2].hist(recall, bins = 20, normed = True)\n",
    "axs[2].vlines(np.mean(recall), ymin= 0, ymax = 75, color='red')\n",
    "\n",
    "plt.show()"
   ]
  },
  {
   "cell_type": "code",
   "execution_count": 51,
   "metadata": {
    "scrolled": false
   },
   "outputs": [
    {
     "data": {
      "image/png": "[encoded data removed]",
      "text/plain": [
       "<Figure size 432x216 with 2 Axes>"
      ]
     },
     "metadata": {
      "needs_background": "light"
     },
     "output_type": "display_data"
    },
    {
     "name": "stdout",
     "output_type": "stream",
     "text": [
      "Accuracy mean:  0.9699122735258936\n",
      "Precision mean:  0.9704841494906609\n",
      "Recall mean:  0.9894686409213188\n"
     ]
    }
   ],
   "source": [
    "data1 = [np.array(score)*100, np.array(precision)*100, np.array(recall)*100]\n",
    "data2 = [np.array(accu)*100, np.array(prec)*100, np.array(reca)*100]\n",
    "\n",
    "boxplotprops = {'boxprops':dict(linewidth=1, color='k'), \n",
    "    'medianprops':dict(linewidth=1, color='k'), \n",
    "    'whiskerprops':dict(linestyle='-', color='k'), \n",
    "    'capprops':dict(color='k'),\n",
    "   'flierprops':dict(markerfacecolor='k', marker='.', linewidth=0.5, markersize = 2)\n",
    "    }\n",
    "\n",
    "import matplotlib\n",
    "colors = matplotlib.cm.get_cmap('tab20c')\n",
    "import numpy as np\n",
    "\n",
    "current_class = [96, 97, 96]\n",
    "fig1, ax = plt.subplots(1, 2, figsize=(6,3))\n",
    "\n",
    "ax[0].boxplot(data1, widths = 0.65, **boxplotprops)# flierprops=flier)#, boxprops=boxprops, medianprops=medianprops, notch=False, widths=0.75)\n",
    "ax[0].set_ylim([90, 101])\n",
    "ax[0].set_xticklabels(['score', 'precision', 'recall'])\n",
    "ax[0].set_yticks([90, 95, 100])\n",
    "ax[0].set_ylabel('percent')\n",
    "ax[0].minorticks_on()\n",
    "\n",
    "ax[1].errorbar([1,2,3], [np.mean(accu)*100, np.mean(prec)*100, np.mean(reca)*100], yerr =[np.std(accu)*100, np.std(prec)*100, np.std(reca)*100],\n",
    "           linestyle='', marker='_', markersize = 20,markeredgecolor='k',\n",
    "           ecolor = 'k', elinewidth = 1, capsize=5)\n",
    "ax[1].set_ylabel('percent')\n",
    "ax[1].set_yticks([90, 95, 100])\n",
    "ax[1].set_xticks([1, 2, 3])\n",
    "ax[1].set_xticklabels(['score', 'precision', 'recall'])\n",
    "\n",
    "ax[1].scatter(np.ones(len(accu))*0.9+np.random.random(len(accu))*0.3, np.array(accu)*100, c = 'k', s = 7)\n",
    "ax[1].scatter(np.ones(len(accu))*1.9+np.random.random(len(accu))*0.3, np.array(prec)*100, c = 'k', s = 7)\n",
    "ax[1].scatter(np.ones(len(accu))*2.9+np.random.random(len(accu))*0.3, np.array(reca)*100, c = 'k', s = 7)\n",
    "ax[1].set_ylim([90, 101])\n",
    "ax[1].set_xlim([0.5,3.5])\n",
    "ax[1].set_xlabel('Compare')\n",
    "plt.tight_layout()\n",
    "ax[1].minorticks_on()\n",
    "plt.title('Novel data Comparison')\n",
    "plt.savefig('Novel_data_comparison.svg')\n",
    "plt.show()\n",
    "\n",
    "\n",
    "print('Accuracy mean: ', np.mean(accu))\n",
    "print('Precision mean: ', np.mean(prec))\n",
    "print('Recall mean: ', np.mean(reca))"
   ]
  },
  {
   "cell_type": "code",
   "execution_count": 42,
   "metadata": {
    "scrolled": false
   },
   "outputs": [
    {
     "name": "stdout",
     "output_type": "stream",
     "text": [
      "7\n",
      "           n_components  n_signal  n_artifact  perc_signal  perc_artifact\n",
      "170804_02         207.0     172.0        35.0     0.830918       0.169082\n",
      "171003_05         255.0     213.0        42.0     0.835294       0.164706\n",
      "190408_01         233.0     177.0        56.0     0.759657       0.240343\n",
      "190408_05         243.0     191.0        52.0     0.786008       0.213992\n",
      "190514_01         303.0     220.0        83.0     0.726073       0.273927\n",
      "190603_01         301.0     235.0        66.0     0.780731       0.219269\n",
      "190603_09         232.0     179.0        53.0     0.771552       0.228448\n",
      "           n_components  n_signal  n_artifact  perc_signal  perc_artifact\n",
      "190423_01         247.0     170.0        77.0     0.688259       0.311741\n",
      "190423_05         274.0     190.0        84.0     0.693431       0.306569\n",
      "190506_01         253.0     187.0        66.0     0.739130       0.260870\n",
      "190506_05         271.0     211.0        60.0     0.778598       0.221402\n",
      "190508_01         283.0     225.0        58.0     0.795053       0.204947\n",
      "190508_05         266.0     197.0        69.0     0.740602       0.259398\n"
     ]
    },
    {
     "name": "stderr",
     "output_type": "stream",
     "text": [
      "/usr/local/lib/python3.5/dist-packages/ipykernel_launcher.py:34: FutureWarning: from_csv is deprecated. Please use read_csv(...) instead. Note that some of the default arguments are different, so please refer to the documentation for from_csv when changing your function calls\n",
      "/usr/local/lib/python3.5/dist-packages/ipykernel_launcher.py:53: FutureWarning: from_csv is deprecated. Please use read_csv(...) instead. Note that some of the default arguments are different, so please refer to the documentation for from_csv when changing your function calls\n"
     ]
    },
    {
     "data": {
      "image/png": "[encoded data removed]",
      "text/plain": [
       "<Figure size 432x288 with 1 Axes>"
      ]
     },
     "metadata": {
      "needs_background": "light"
     },
     "output_type": "display_data"
    },
    {
     "data": {
      "image/png": "[encoded data removed]",
      "text/plain": [
       "<Figure size 432x288 with 1 Axes>"
      ]
     },
     "metadata": {
      "needs_background": "light"
     },
     "output_type": "display_data"
    }
   ],
   "source": [
    "import pandas as pd\n",
    "import numpy as np\n",
    "import seaborn as sns\n",
    "import matplotlib.pyplot as plt\n",
    "\n",
    "\n",
    "explist = ['170804_02_ica_metrics.tsv',\n",
    "            '171003_05_ica_metrics.tsv',\n",
    "            '190408_01_ica_metrics.tsv',\n",
    "            '190408_05_ica_metrics.tsv',\n",
    "            '190506_05_ica_metrics.tsv',\n",
    "            '190514_01_ica_metrics.tsv',\n",
    "            '190603_01_600components_ica_metrics.tsv',\n",
    "            '190603_09_600components_ica_metrics.tsv']\n",
    "\n",
    "novellist = ['190423_01_600components_ica_metrics.tsv',\n",
    "             '190423_05_600components_ica_metrics.tsv',\n",
    "             '190506_01_ica_metrics.tsv',\n",
    "             '190508_01_ica_metrics.tsv',\n",
    "             '190508_05_ica_metrics.tsv']\n",
    "\n",
    "\n",
    "print(len(explist))\n",
    "\n",
    "expdir = '/home/ackmanadmin/Documents/classifier/expMetrics/'\n",
    "\n",
    "n_components = []\n",
    "n_signal = []\n",
    "n_artifact = []\n",
    "\n",
    "prop = pd.DataFrame()\n",
    "\n",
    "for i, exp in enumerate(explist):\n",
    "        data = pd.DataFrame.from_csv(expdir + exp, sep = '\\t', index_col='exp_ic')\n",
    "        prop.loc[exp[:9], 'n_components'] = len(data)\n",
    "        prop.loc[exp[:9], 'n_signal'] = np.sum(data['signal'])\n",
    "        prop.loc[exp[:9], 'n_artifact'] = np.sum(data['artifact'])\n",
    "\n",
    "prop['perc_signal'] = prop['n_signal']/prop['n_components']\n",
    "prop['perc_artifact'] = prop['n_artifact']/prop['n_components']\n",
    "\n",
    "print(prop)\n",
    "\n",
    "expdir = '/home/ackmanadmin/Documents/classifier/expMetrics/'\n",
    "\n",
    "n_components = []\n",
    "n_signal = []\n",
    "n_artifact = []\n",
    "\n",
    "propn = pd.DataFrame()\n",
    "\n",
    "for i, exp in enumerate(novellist):\n",
    "        data = pd.DataFrame.from_csv(expdir + exp, sep = '\\t', index_col='exp_ic')\n",
    "        propn.loc[exp[:9], 'n_components'] = len(data)\n",
    "        propn.loc[exp[:9], 'n_signal'] = np.sum(data['signal'])\n",
    "        propn.loc[exp[:9], 'n_artifact'] = np.sum(data['artifact'])\n",
    "\n",
    "propn['perc_signal'] = propn['n_signal']/propn['n_components']\n",
    "propn['perc_artifact'] = propn['n_artifact']/propn['n_components']\n",
    "\n",
    "print(propn)\n",
    "\n",
    "plt.bar(np.arange(3)-.25, prop.mean()[:3], yerr=prop.std()[:3], alpha = 0.5, width=0.3)\n",
    "plt.scatter(np.zeros(len(prop['n_components']))-.25, prop['n_components'])\n",
    "plt.scatter(np.ones(len(prop['n_signal']))-.25, prop['n_signal'])\n",
    "plt.scatter(np.ones(len(prop['n_artifact']))*2-.25, prop['n_artifact'])\n",
    "\n",
    "plt.bar(np.arange(3)+.25, propn.mean()[:3], yerr=propn.std()[:3], alpha = 0.5, width=0.3)\n",
    "plt.scatter(np.zeros(len(propn['n_components']))+.25, propn['n_components'])\n",
    "plt.scatter(np.ones(len(propn['n_signal']))+.25, propn['n_signal'])\n",
    "plt.scatter(np.ones(len(propn['n_artifact']))*2+.25, propn['n_artifact'])\n",
    "\n",
    "plt.show()\n",
    "\n",
    "plt.bar(1, prop.mean()[3], yerr=prop.std()[3], alpha = 0.5)\n",
    "plt.bar(1, prop.mean()[4], yerr=prop.std()[4], bottom = prop.mean()[3], alpha = 0.5)\n",
    "\n",
    "plt.bar(2, propn.mean()[3], yerr=propn.std()[3], alpha = 0.5)\n",
    "plt.bar(2, propn.mean()[4], yerr=propn.std()[4], bottom = propn.mean()[3], alpha = 0.5)\n",
    "\n",
    "plt.show()\n",
    "\n",
    "\n",
    "plt.show()\n",
    "\n",
    "\n",
    "plt.show()"
   ]
  },
  {
   "cell_type": "markdown",
   "metadata": {},
   "source": [
    "### Desi's edits "
   ]
  },
  {
   "cell_type": "code",
   "execution_count": 23,
   "metadata": {},
   "outputs": [
    {
     "name": "stdout",
     "output_type": "stream",
     "text": [
      "8\n",
      "           n_components  n_signal  n_artifact  perc_signal  perc_artifact\n",
      "170804_02         207.0     172.0        35.0     0.830918       0.169082\n",
      "171003_05         255.0     213.0        42.0     0.835294       0.164706\n",
      "190408_01         233.0     177.0        56.0     0.759657       0.240343\n",
      "190408_05         243.0     191.0        52.0     0.786008       0.213992\n",
      "190506_05         271.0     211.0        60.0     0.778598       0.221402\n",
      "190514_01         303.0     220.0        83.0     0.726073       0.273927\n",
      "190603_02         309.0     233.0        76.0     0.754045       0.245955\n",
      "           n_components  n_signal  n_artifact  perc_signal  perc_artifact\n",
      "190423_01         231.0     165.0        66.0     0.714286       0.285714\n",
      "190423_05         264.0     188.0        76.0     0.712121       0.287879\n",
      "190506_01         253.0     186.0        67.0     0.735178       0.264822\n",
      "190508_01         283.0     232.0        51.0     0.819788       0.180212\n",
      "190508_05         266.0     197.0        69.0     0.740602       0.259398\n"
     ]
    },
    {
     "name": "stderr",
     "output_type": "stream",
     "text": [
      "/usr/local/lib/python3.5/dist-packages/ipykernel_launcher.py:34: FutureWarning: from_csv is deprecated. Please use read_csv(...) instead. Note that some of the default arguments are different, so please refer to the documentation for from_csv when changing your function calls\n",
      "/usr/local/lib/python3.5/dist-packages/ipykernel_launcher.py:53: FutureWarning: from_csv is deprecated. Please use read_csv(...) instead. Note that some of the default arguments are different, so please refer to the documentation for from_csv when changing your function calls\n"
     ]
    },
    {
     "data": {
      "image/png": "[encoded data removed]",
      "text/plain": [
       "<Figure size 432x288 with 1 Axes>"
      ]
     },
     "metadata": {
      "needs_background": "light"
     },
     "output_type": "display_data"
    },
    {
     "data": {
      "image/png": "[encoded data removed]",
      "text/plain": [
       "<Figure size 432x288 with 1 Axes>"
      ]
     },
     "metadata": {
      "needs_background": "light"
     },
     "output_type": "display_data"
    }
   ],
   "source": [
    "import pandas as pd\n",
    "import numpy as np\n",
    "import seaborn as sns\n",
    "import matplotlib.pyplot as plt\n",
    "\n",
    "\n",
    "explist = ['170804_02_ica_metrics.tsv',\n",
    "            '171003_05_ica_metrics.tsv',\n",
    "            '190408_01_ica_metrics.tsv',\n",
    "            '190408_05_ica_metrics.tsv',\n",
    "            '190506_05_ica_metrics.tsv',\n",
    "            '190514_01_ica_metrics.tsv',\n",
    "            '190603_02_ica_metrics.tsv',\n",
    "            '190603_09_ica_metrics.tsv']\n",
    "\n",
    "novellist = ['190423_01_ica_metrics.tsv',\n",
    "             '190423_05_ica_metrics.tsv',\n",
    "             '190506_01_ica_metrics.tsv',\n",
    "             '190508_01_ica_metrics.tsv',\n",
    "             '190508_05_ica_metrics.tsv']\n",
    "\n",
    "\n",
    "print(len(explist))\n",
    "\n",
    "expdir = '/home/ackmanadmin/Documents/classifier/expMetrics/'\n",
    "\n",
    "n_components = []\n",
    "n_signal = []\n",
    "n_artifact = []\n",
    "\n",
    "prop = pd.DataFrame()\n",
    "\n",
    "for i, exp in enumerate(explist):\n",
    "        data = pd.DataFrame.from_csv(expdir + exp, sep = '\\t', index_col='exp_ic')\n",
    "        prop.loc[exp[:9], 'n_components'] = len(data)\n",
    "        prop.loc[exp[:9], 'n_signal'] = np.sum(data['signal'])\n",
    "        prop.loc[exp[:9], 'n_artifact'] = np.sum(data['artifact'])\n",
    "\n",
    "prop['perc_signal'] = prop['n_signal']/prop['n_components']\n",
    "prop['perc_artifact'] = prop['n_artifact']/prop['n_components']\n",
    "\n",
    "print(prop)\n",
    "\n",
    "expdir = '/home/ackmanadmin/Documents/classifier/expMetrics/'\n",
    "\n",
    "n_components = []\n",
    "n_signal = []\n",
    "n_artifact = []\n",
    "\n",
    "propn = pd.DataFrame()\n",
    "\n",
    "for i, exp in enumerate(novellist):\n",
    "        data = pd.DataFrame.from_csv(expdir + exp, sep = '\\t', index_col='exp_ic')\n",
    "        propn.loc[exp[:9], 'n_components'] = len(data)\n",
    "        propn.loc[exp[:9], 'n_signal'] = np.sum(data['signal'])\n",
    "        propn.loc[exp[:9], 'n_artifact'] = np.sum(data['artifact'])\n",
    "#  b'/home/ackmanadmin/Documents/classifier/p21_classifier_metrics.tsv'\n",
    "propn['perc_signal'] = propn['n_signal']/propn['n_components']\n",
    "propn['perc_artifact'] = propn['n_artifact']/propn['n_components']\n",
    "\n",
    "print(propn)\n",
    "\n",
    "b1 = plt.bar(np.arange(3)-.25, prop.mean()[:3], yerr=prop.std()[:3], alpha = 0.5, width=0.3, color = '#19C190', label = 'trained data')\n",
    "plt.scatter(np.zeros(len(prop['n_components']))-.25, prop['n_components'], c='#050DFF')\n",
    "plt.scatter(np.ones(len(prop['n_signal']))-.25, prop['n_signal'], c='#050DFF')\n",
    "plt.scatter(np.ones(len(prop['n_artifact']))*2-.25, prop['n_artifact'], c='#050DFF')\n",
    "\n",
    "b2 = plt.bar(np.arange(3)+.25, propn.mean()[:3], yerr=propn.std()[:3], alpha = 0.5, width=0.3, color = '#AF08D1', label = 'novel data')\n",
    "plt.scatter(np.zeros(len(propn['n_components']))+.25, propn['n_components'],  c='#FF0505')\n",
    "plt.scatter(np.ones(len(propn['n_signal']))+.25, propn['n_signal'],  c='#FF0505')\n",
    "plt.scatter(np.ones(len(propn['n_artifact']))*2+.25, propn['n_artifact'],  c='#FF0505')\n",
    "\n",
    "plt.legend(handles = [b1, b2])\n",
    "plt.show()\n",
    "\n",
    "plt.bar(1, prop.mean()[3], yerr=prop.std()[3], alpha = 0.5, color = \"#CD0032\")\n",
    "plt.bar(1, prop.mean()[4], yerr=prop.std()[4], bottom = prop.mean()[3], alpha = 0.5, color = '#F2C402')\n",
    "plt.bar(2, propn.mean()[3], yerr=propn.std()[3], alpha = 0.5, color = '#08065C')\n",
    "plt.bar(2, propn.mean()[4], yerr=propn.std()[4], bottom = propn.mean()[3], alpha = 0.5, color = '#55F202')\n",
    "\n",
    "plt.show()\n",
    "\n",
    "\n",
    "plt.show()\n",
    "\n",
    "\n",
    "plt.show()"
   ]
  },
  {
   "cell_type": "code",
   "execution_count": null,
   "metadata": {
    "collapsed": true
   },
   "outputs": [],
   "source": []
  }
 ],
 "metadata": {
  "kernelspec": {
   "display_name": "Python 3",
   "language": "python",
   "name": "python3"
  },
  "language_info": {
   "codemirror_mode": {
    "name": "ipython",
    "version": 3
   },
   "file_extension": ".py",
   "mimetype": "text/x-python",
   "name": "python",
   "nbconvert_exporter": "python",
   "pygments_lexer": "ipython3",
   "version": "3.5.2"
  }
 },
 "nbformat": 4,
 "nbformat_minor": 2
}
